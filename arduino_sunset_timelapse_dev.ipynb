{
  "nbformat": 4,
  "nbformat_minor": 0,
  "metadata": {
    "colab": {
      "provenance": []
    },
    "kernelspec": {
      "name": "python3",
      "display_name": "Python 3"
    },
    "language_info": {
      "name": "python"
    }
  },
  "cells": [
    {
      "cell_type": "code",
      "metadata": {
        "id": "tkkUieoCALe8"
      },
      "source": [
        "import numpy as np\n",
        "import matplotlib.pyplot as plt\n",
        "import pandas as pd"
      ],
      "execution_count": null,
      "outputs": []
    },
    {
      "cell_type": "code",
      "metadata": {
        "id": "MK59mBJuNhF_"
      },
      "source": [
        "def times100(start_speed,end_speed,number_frames):\n",
        "  speeds = np.logspace(start=np.log(start_speed),stop=np.log(end_speed),num=number_frames,base=np.e) # assumes inputs in ms\n",
        "  std_speeds = np.ceil((speeds-1.0) / 100.0).astype(int) * 100 # round to nearest 100 ms\n",
        "  return std_speeds"
      ],
      "execution_count": null,
      "outputs": []
    },
    {
      "cell_type": "code",
      "metadata": {
        "id": "EYwx6GhIVNwp"
      },
      "source": [
        " num_frames = 240"
      ],
      "execution_count": null,
      "outputs": []
    },
    {
      "cell_type": "code",
      "metadata": {
        "id": "m3PxU80NLRw0"
      },
      "source": [
        "shutters = times100(100,180000,num_frames)"
      ],
      "execution_count": null,
      "outputs": []
    },
    {
      "cell_type": "code",
      "metadata": {
        "colab": {
          "base_uri": "https://localhost:8080/"
        },
        "id": "yy7X2PzGZErJ",
        "outputId": "f06157f0-a7ad-476f-85b7-543df014963e"
      },
      "source": [
        "pauses = times100(120000,1000,num_frames-1)\n",
        "print(\"Total time paused =\", round(np.sum(pauses)/60000,1), \"minutes\")"
      ],
      "execution_count": null,
      "outputs": [
        {
          "output_type": "stream",
          "text": [
            "Total time paused = 99.8 minutes\n"
          ],
          "name": "stdout"
        }
      ]
    },
    {
      "cell_type": "code",
      "metadata": {
        "colab": {
          "base_uri": "https://localhost:8080/"
        },
        "id": "P0zX0FPtz4nW",
        "outputId": "c056e453-6a92-4fe6-dc38-a7c463ca5152"
      },
      "source": [
        "total_hrs = (np.sum(shutters) + np.sum(pauses)) / 1000 / 3600\n",
        "print(\"Total capture period =\", int(np.floor(total_hrs)), \"Hrs, \", int((total_hrs - np.floor(total_hrs) ) * 60),\"Mins\")\n",
        "# print(\"Start sequence\", np.round(60 * np.cumsum(shutters)[0] / 1000 / 3600) , \"mins before sunset\")"
      ],
      "execution_count": null,
      "outputs": [
        {
          "output_type": "stream",
          "text": [
            "Total capture period = 3 Hrs,  17 Mins\n"
          ],
          "name": "stdout"
        }
      ]
    },
    {
      "cell_type": "code",
      "metadata": {
        "colab": {
          "base_uri": "https://localhost:8080/"
        },
        "id": "Bj_Hb1CGZNSB",
        "outputId": "7271806a-479b-4a10-c5b7-26d9f939c5fc"
      },
      "source": [
        "rec_time = np.sum(shutters) / 3600000\n",
        "print(\"Total light gathering time =\", int(np.floor(rec_time)), \"Hrs, \", int((rec_time - np.floor(rec_time) ) * 60),\"Mins\")"
      ],
      "execution_count": null,
      "outputs": [
        {
          "output_type": "stream",
          "text": [
            "Total light gathering time = 1 Hrs,  37 Mins\n"
          ],
          "name": "stdout"
        }
      ]
    },
    {
      "cell_type": "code",
      "metadata": {
        "colab": {
          "base_uri": "https://localhost:8080/"
        },
        "id": "X_2sm16_sgl3",
        "outputId": "631d6db6-d206-410e-b6b5-a8f1ca9c325d"
      },
      "source": [
        "print(\"Video playback length @ 30p =\", round(num_frames/30,1), \"seconds\")"
      ],
      "execution_count": null,
      "outputs": [
        {
          "output_type": "stream",
          "text": [
            "Video playback length @ 30p = 8.0 seconds\n"
          ],
          "name": "stdout"
        }
      ]
    },
    {
      "cell_type": "code",
      "metadata": {
        "colab": {
          "base_uri": "https://localhost:8080/"
        },
        "id": "KCraGKN-NTb-",
        "outputId": "fd24b536-c770-4c1a-fc19-a09af068150f"
      },
      "source": [
        "shutters"
      ],
      "execution_count": null,
      "outputs": [
        {
          "output_type": "execute_result",
          "data": {
            "text/plain": [
              "array([   100,    200,    200,    200,    200,    200,    200,    200,\n",
              "          200,    200,    200,    200,    200,    200,    200,    200,\n",
              "          200,    200,    200,    200,    200,    200,    200,    300,\n",
              "          300,    300,    300,    300,    300,    300,    300,    300,\n",
              "          300,    300,    300,    300,    400,    400,    400,    400,\n",
              "          400,    400,    400,    400,    400,    500,    500,    500,\n",
              "          500,    500,    500,    500,    600,    600,    600,    600,\n",
              "          600,    600,    700,    700,    700,    700,    700,    800,\n",
              "          800,    800,    800,    900,    900,    900,    900,   1000,\n",
              "         1000,   1000,   1100,   1100,   1100,   1200,   1200,   1200,\n",
              "         1300,   1300,   1400,   1400,   1400,   1500,   1500,   1600,\n",
              "         1600,   1700,   1700,   1800,   1800,   1900,   2000,   2000,\n",
              "         2100,   2100,   2200,   2300,   2400,   2400,   2500,   2600,\n",
              "         2700,   2700,   2800,   2900,   3000,   3100,   3200,   3300,\n",
              "         3400,   3500,   3600,   3700,   3900,   4000,   4100,   4200,\n",
              "         4400,   4500,   4600,   4800,   4900,   5100,   5300,   5400,\n",
              "         5600,   5800,   5900,   6100,   6300,   6500,   6700,   6900,\n",
              "         7200,   7400,   7600,   7900,   8100,   8400,   8600,   8900,\n",
              "         9200,   9500,   9800,  10100,  10400,  10800,  11100,  11400,\n",
              "        11800,  12200,  12600,  13000,  13400,  13800,  14200,  14700,\n",
              "        15200,  15600,  16100,  16600,  17200,  17700,  18300,  18900,\n",
              "        19500,  20100,  20700,  21400,  22100,  22800,  23500,  24200,\n",
              "        25000,  25800,  26600,  27500,  28300,  29200,  30200,  31100,\n",
              "        32100,  33100,  34200,  35300,  36400,  37600,  38800,  40000,\n",
              "        41300,  42600,  43900,  45300,  46800,  48300,  49800,  51400,\n",
              "        53000,  54700,  56500,  58300,  60100,  62000,  64000,  66000,\n",
              "        68100,  70300,  72500,  74800,  77200,  79700,  82200,  84800,\n",
              "        87500,  90300,  93200,  96200,  99200, 102400, 105700, 109000,\n",
              "       112500, 116100, 119800, 123600, 127500, 131600, 135800, 140100,\n",
              "       144600, 149200, 153900, 158800, 163900, 169100, 174500, 180000])"
            ]
          },
          "metadata": {
            "tags": []
          },
          "execution_count": 9
        }
      ]
    },
    {
      "cell_type": "code",
      "metadata": {
        "colab": {
          "base_uri": "https://localhost:8080/"
        },
        "id": "QbJgNq1yaNTV",
        "outputId": "23fe8da5-564e-435e-9a9a-ff655a026b90"
      },
      "source": [
        "pauses"
      ],
      "execution_count": null,
      "outputs": [
        {
          "output_type": "execute_result",
          "data": {
            "text/plain": [
              "array([120000, 117700, 115300, 113000, 110800, 108600, 106400, 104300,\n",
              "       102200, 100200,  98200,  96200,  94300,  92400,  90600,  88800,\n",
              "        87000,  85300,  83600,  81900,  80300,  78700,  77100,  75600,\n",
              "        74100,  72600,  71200,  69800,  68400,  67000,  65700,  64400,\n",
              "        63100,  61800,  60600,  59400,  58200,  57100,  55900,  54800,\n",
              "        53700,  52700,  51600,  50600,  49600,  48600,  47600,  46700,\n",
              "        45700,  44800,  43900,  43100,  42200,  41400,  40500,  39700,\n",
              "        39000,  38200,  37400,  36700,  35900,  35200,  34500,  33800,\n",
              "        33200,  32500,  31900,  31200,  30600,  30000,  29400,  28800,\n",
              "        28200,  27700,  27100,  26600,  26100,  25500,  25000,  24500,\n",
              "        24100,  23600,  23100,  22600,  22200,  21800,  21300,  20900,\n",
              "        20500,  20100,  19700,  19300,  18900,  18500,  18200,  17800,\n",
              "        17400,  17100,  16800,  16400,  16100,  15800,  15500,  15200,\n",
              "        14900,  14600,  14300,  14000,  13700,  13400,  13200,  12900,\n",
              "        12700,  12400,  12200,  11900,  11700,  11500,  11200,  11000,\n",
              "        10800,  10600,  10400,  10200,  10000,   9800,   9600,   9400,\n",
              "         9200,   9000,   8800,   8700,   8500,   8300,   8200,   8000,\n",
              "         7800,   7700,   7500,   7400,   7200,   7100,   6900,   6800,\n",
              "         6700,   6500,   6400,   6300,   6200,   6000,   5900,   5800,\n",
              "         5700,   5600,   5500,   5400,   5300,   5100,   5000,   4900,\n",
              "         4900,   4800,   4700,   4600,   4500,   4400,   4300,   4200,\n",
              "         4100,   4100,   4000,   3900,   3800,   3700,   3700,   3600,\n",
              "         3500,   3500,   3400,   3300,   3300,   3200,   3100,   3100,\n",
              "         3000,   3000,   2900,   2800,   2800,   2700,   2700,   2600,\n",
              "         2600,   2500,   2500,   2400,   2400,   2300,   2300,   2200,\n",
              "         2200,   2200,   2100,   2100,   2000,   2000,   2000,   1900,\n",
              "         1900,   1800,   1800,   1800,   1700,   1700,   1700,   1600,\n",
              "         1600,   1600,   1500,   1500,   1500,   1500,   1400,   1400,\n",
              "         1400,   1300,   1300,   1300,   1300,   1200,   1200,   1200,\n",
              "         1200,   1200,   1100,   1100,   1100,   1100,   1000])"
            ]
          },
          "metadata": {
            "tags": []
          },
          "execution_count": 10
        }
      ]
    },
    {
      "cell_type": "code",
      "metadata": {
        "colab": {
          "base_uri": "https://localhost:8080/",
          "height": 295
        },
        "id": "-1bAh8JtbWm9",
        "outputId": "32eb7676-e7e4-4ea7-8d96-84f2db135cdb"
      },
      "source": [
        "frames_start_mins = [0] + [(np.cumsum(shutters)[x] + np.cumsum(pauses)[x]) / 60000 for x in range(len(pauses))]\n",
        "\n",
        "plt.step(frames_start_mins,shutters/60000,where='post')\n",
        "plt.title(\"Capture sequence\")\n",
        "plt.xlabel(\"Elapsed minutes\")\n",
        "plt.ylabel(\"Exposure minutes\");"
      ],
      "execution_count": null,
      "outputs": [
        {
          "output_type": "display_data",
          "data": {
            "image/png": "[encoded data removed]",
            "text/plain": [
              "<Figure size 432x288 with 1 Axes>"
            ]
          },
          "metadata": {
            "tags": [],
            "needs_background": "light"
          }
        }
      ]
    },
    {
      "cell_type": "code",
      "metadata": {
        "colab": {
          "base_uri": "https://localhost:8080/",
          "height": 295
        },
        "id": "sCYoYrTyeL7O",
        "outputId": "3128ba4f-e499-4fef-fd9b-616a005c0187"
      },
      "source": [
        "plt.plot(frames_start_mins, np.arange(1,num_frames+1))\n",
        "plt.title(\"Frame number vs. real elapsed minutes\")\n",
        "plt.xlabel(\"Elapsed minutes\")\n",
        "plt.ylabel(\"Frame number\");"
      ],
      "execution_count": null,
      "outputs": [
        {
          "output_type": "display_data",
          "data": {
            "image/png": "[encoded data removed]",
            "text/plain": [
              "<Figure size 432x288 with 1 Axes>"
            ]
          },
          "metadata": {
            "tags": [],
            "needs_background": "light"
          }
        }
      ]
    },
    {
      "cell_type": "code",
      "metadata": {
        "colab": {
          "base_uri": "https://localhost:8080/",
          "height": 295
        },
        "id": "MVEgMUU0QKNZ",
        "outputId": "aa018d36-76b0-4856-c548-92b2806dbb26"
      },
      "source": [
        "interval_minutes = np.diff(frames_start_mins)*60\n",
        "\n",
        "plt.plot(frames_start_mins[:-1],60/interval_minutes)\n",
        "plt.title(\"Frame capture rate\")\n",
        "plt.xlabel(\"Elapsed minutes\")\n",
        "plt.ylabel(\"Frames per minute\");"
      ],
      "execution_count": null,
      "outputs": [
        {
          "output_type": "display_data",
          "data": {
            "image/png": "[encoded data removed]",
            "text/plain": [
              "<Figure size 432x288 with 1 Axes>"
            ]
          },
          "metadata": {
            "tags": [],
            "needs_background": "light"
          }
        }
      ]
    },
    {
      "cell_type": "code",
      "metadata": {
        "colab": {
          "base_uri": "https://localhost:8080/",
          "height": 295
        },
        "id": "HSAmFTSB3l12",
        "outputId": "a3674952-4e85-42a1-9ce4-5c45772f7bbf"
      },
      "source": [
        "plt.plot(np.arange(1,num_frames),interval_minutes)\n",
        "plt.title(\"Playback apparent speed multiplier by frame number\")\n",
        "plt.xlabel(\"Frame number\")\n",
        "plt.ylabel(\"Multiple of real passage of time\");"
      ],
      "execution_count": null,
      "outputs": [
        {
          "output_type": "display_data",
          "data": {
            "image/png": "[encoded data removed]",
            "text/plain": [
              "<Figure size 432x288 with 1 Axes>"
            ]
          },
          "metadata": {
            "tags": [],
            "needs_background": "light"
          }
        }
      ]
    },
    {
      "cell_type": "code",
      "metadata": {
        "id": "18dsFz-LTlvC"
      },
      "source": [
        "df = pd.DataFrame(zip(frames_start_mins[:-1],60/interval_minutes),columns=[\"StartFrameMinute\",\"CaptureRatePerMinute\"])"
      ],
      "execution_count": null,
      "outputs": []
    },
    {
      "cell_type": "code",
      "metadata": {
        "colab": {
          "base_uri": "https://localhost:8080/"
        },
        "id": "6x-dhWuK8dcS",
        "outputId": "82cdfc76-9e42-45df-bbc9-8ed3b374e0c3"
      },
      "source": [
        "print(\"Peak capture rate is\",round(df[\"StartFrameMinute\"][df.idxmax(axis=0)[\"CaptureRatePerMinute\"]]),\"minutes into recording.\")"
      ],
      "execution_count": null,
      "outputs": [
        {
          "output_type": "stream",
          "text": [
            "Peak capture rate is 96 minutes into recording.\n"
          ],
          "name": "stdout"
        }
      ]
    },
    {
      "cell_type": "code",
      "metadata": {
        "id": "wkXYUupN81Tb",
        "outputId": "88fa3f83-087b-484c-d0ef-8efe1ba352d0",
        "colab": {
          "base_uri": "https://localhost:8080/"
        }
      },
      "source": [
        "len(pauses)==len(shutters)-1"
      ],
      "execution_count": null,
      "outputs": [
        {
          "output_type": "execute_result",
          "data": {
            "text/plain": [
              "True"
            ]
          },
          "metadata": {
            "tags": []
          },
          "execution_count": 17
        }
      ]
    },
    {
      "cell_type": "code",
      "metadata": {
        "id": "2FTcWOPgc90w"
      },
      "source": [],
      "execution_count": null,
      "outputs": []
    }
  ]
}